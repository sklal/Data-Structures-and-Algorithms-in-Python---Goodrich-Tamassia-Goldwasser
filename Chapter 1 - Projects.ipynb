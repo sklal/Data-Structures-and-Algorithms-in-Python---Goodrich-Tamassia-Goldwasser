{
 "cells": [
  {
   "cell_type": "markdown",
   "metadata": {},
   "source": [
    "Chapter 1 - Projects"
   ]
  },
  {
   "cell_type": "markdown",
   "metadata": {},
   "source": [
    "P - 1.29 Write a Python program that outputs all possible strings formed by using the characters 'c','a','t','d','o','g' exactly once"
   ]
  },
  {
   "cell_type": "code",
   "execution_count": 14,
   "metadata": {},
   "outputs": [],
   "source": [
    "def permutations(string):\n",
    "    if len(string) == 1:\n",
    "        return string\n",
    "\n",
    "    recursive_perms = []\n",
    "    for c in string:\n",
    "        for i in permutations(string.replace(c,'',1)):\n",
    "            recursive_perms.append(c+perm)\n",
    "\n",
    "    return set(recursive_perms)"
   ]
  },
  {
   "cell_type": "code",
   "execution_count": 15,
   "metadata": {},
   "outputs": [
    {
     "data": {
      "text/plain": [
       "{'aanst',\n",
       " 'aants',\n",
       " 'aasnt',\n",
       " 'aastn',\n",
       " 'aatns',\n",
       " 'aatsn',\n",
       " 'anast',\n",
       " 'anats',\n",
       " 'ansat',\n",
       " 'ansta',\n",
       " 'antas',\n",
       " 'antsa',\n",
       " 'asant',\n",
       " 'asatn',\n",
       " 'asnat',\n",
       " 'asnta',\n",
       " 'astan',\n",
       " 'astna',\n",
       " 'atans',\n",
       " 'atasn',\n",
       " 'atnas',\n",
       " 'atnsa',\n",
       " 'atsan',\n",
       " 'atsna',\n",
       " 'naast',\n",
       " 'naats',\n",
       " 'nasat',\n",
       " 'nasta',\n",
       " 'natas',\n",
       " 'natsa',\n",
       " 'nsaat',\n",
       " 'nsata',\n",
       " 'nstaa',\n",
       " 'ntaas',\n",
       " 'ntasa',\n",
       " 'ntsaa',\n",
       " 'saant',\n",
       " 'saatn',\n",
       " 'sanat',\n",
       " 'santa',\n",
       " 'satan',\n",
       " 'satna',\n",
       " 'snaat',\n",
       " 'snata',\n",
       " 'sntaa',\n",
       " 'staan',\n",
       " 'stana',\n",
       " 'stnaa',\n",
       " 'taans',\n",
       " 'taasn',\n",
       " 'tanas',\n",
       " 'tansa',\n",
       " 'tasan',\n",
       " 'tasna',\n",
       " 'tnaas',\n",
       " 'tnasa',\n",
       " 'tnsaa',\n",
       " 'tsaan',\n",
       " 'tsana',\n",
       " 'tsnaa'}"
      ]
     },
     "execution_count": 15,
     "metadata": {},
     "output_type": "execute_result"
    }
   ],
   "source": [
    "permutations('sanat')"
   ]
  },
  {
   "cell_type": "code",
   "execution_count": null,
   "metadata": {},
   "outputs": [],
   "source": []
  }
 ],
 "metadata": {
  "kernelspec": {
   "display_name": "Python 3",
   "language": "python",
   "name": "python3"
  },
  "language_info": {
   "codemirror_mode": {
    "name": "ipython",
    "version": 3
   },
   "file_extension": ".py",
   "mimetype": "text/x-python",
   "name": "python",
   "nbconvert_exporter": "python",
   "pygments_lexer": "ipython3",
   "version": "3.7.6"
  }
 },
 "nbformat": 4,
 "nbformat_minor": 4
}
